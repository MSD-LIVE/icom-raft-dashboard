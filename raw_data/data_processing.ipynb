{
 "cells": [
  {
   "cell_type": "code",
   "execution_count": null,
   "id": "020ac5f3-59ed-4c39-89e3-18927aeaf308",
   "metadata": {},
   "outputs": [],
   "source": [
    "import numpy as np\n",
    "import pandas as pd\n",
    "import pyarrow as pa\n",
    "import rioxarray\n",
    "import xarray as xr"
   ]
  },
  {
   "cell_type": "code",
   "execution_count": null,
   "id": "70191d9f-13af-49d2-91fd-727130d55595",
   "metadata": {},
   "outputs": [],
   "source": []
  },
  {
   "cell_type": "code",
   "execution_count": null,
   "id": "4ef28b2c-5e41-4119-a1cb-9d6420bbaa90",
   "metadata": {},
   "outputs": [],
   "source": [
    "tracks = xr.open_dataset(\n",
    "    './IBTrACS.NA.v04r00.nc'\n",
    ")"
   ]
  },
  {
   "cell_type": "code",
   "execution_count": null,
   "id": "35f9e105-cee5-46ec-a2f6-d1d19eea9f00",
   "metadata": {},
   "outputs": [],
   "source": [
    "raft_baseline = xr.open_dataset(\n",
    "    './01_11vars_RAFT_baseline.nc'\n",
    ")\n",
    "raft_ssp245_near_cold = xr.open_dataset(\n",
    "    './01_11vars_RAFT_TGW_ssp245_nearFuture_coldModelMean.nc'\n",
    ")\n",
    "raft_ssp245_far_cold = xr.open_dataset(\n",
    "    './01_11vars_RAFT_TGW_ssp245_farFuture_coldModelMean.nc'\n",
    ")\n",
    "raft_ssp245_near_hot = xr.open_dataset(\n",
    "    './01_11vars_RAFT_TGW_ssp245_nearFuture_hotModelMean.nc'\n",
    ")\n",
    "raft_ssp245_far_hot = xr.open_dataset(\n",
    "    './01_11vars_RAFT_TGW_ssp245_farFuture_hotModelMean.nc'\n",
    ")\n",
    "raft_ssp585_near_cold = xr.open_dataset(\n",
    "    './01_11vars_RAFT_TGW_ssp585_nearFuture_coldModelMean.nc'\n",
    ")\n",
    "raft_ssp585_far_cold = xr.open_dataset(\n",
    "    './01_11vars_RAFT_TGW_ssp585_farFuture_coldModelMean.nc'\n",
    ")\n",
    "raft_ssp585_near_hot = xr.open_dataset(\n",
    "    './01_11vars_RAFT_TGW_ssp585_nearFuture_hotModelMean.nc'\n",
    ")\n",
    "raft_ssp585_far_hot = xr.open_dataset(\n",
    "    './01_11vars_RAFT_TGW_ssp585_farFuture_hotModelMean.nc'\n",
    ")"
   ]
  },
  {
   "cell_type": "code",
   "execution_count": null,
   "id": "2c8e75e1-ac7d-41c5-9163-6f209950a27b",
   "metadata": {},
   "outputs": [],
   "source": []
  },
  {
   "cell_type": "code",
   "execution_count": null,
   "id": "d643e7ac-fa27-44d0-acf5-dc722b34df7f",
   "metadata": {},
   "outputs": [],
   "source": [
    "tracks_df = tracks[['name', 'iso_time', 'dist2land']].to_dataframe().reset_index()\n",
    "tracks_df['time'] = tracks_df.time.astype('datetime64[s]').astype('datetime64[ns]')\n",
    "tracks_df['over_land'] = (tracks_df.dist2land == 0)"
   ]
  },
  {
   "cell_type": "code",
   "execution_count": null,
   "id": "2814d9ed-0ff5-41cc-8bf9-8beb98f0493f",
   "metadata": {},
   "outputs": [],
   "source": [
    "raft_columns = [\n",
    "    'stormID', 'datetime_strings', 'vmax_kts',\n",
    "    'VMPI_t0', 'U200_t0', 'SHRD_t0', 'DELV_6', 'EPTK_t0',\n",
    "    'LP500_t0', 'PSLV_v3', 'RHLO_t0',\n",
    "]\n",
    "raft_df = raft_baseline.to_dataframe().reset_index()[\n",
    "    raft_columns + ['IBTrACS_vmax']\n",
    "].rename(columns={\n",
    "    'IBTrACS_vmax': 'vmax_kts_ibtracs',\n",
    "}).rename(columns={\n",
    "    k: f'{k}_baseline' for k in raft_columns[2:]\n",
    "})\n",
    "raft_df['datetime_strings'] = pd.to_datetime(raft_df.datetime_strings)\n",
    "raft_df = raft_df[raft_df.datetime_strings.notna()]\n",
    "\n",
    "for x, s in [\n",
    "    (raft_ssp245_near_cold, 'ssp245_near_cold' ),\n",
    "    (raft_ssp245_far_cold,  'ssp245_far_cold'  ),\n",
    "    (raft_ssp245_near_hot,  'ssp245_near_hot'  ),\n",
    "    (raft_ssp245_far_hot,   'ssp245_far_hot'   ),\n",
    "    (raft_ssp585_near_cold, 'ssp585_near_cold' ),\n",
    "    (raft_ssp585_far_cold,  'ssp585_far_cold'  ),\n",
    "    (raft_ssp585_near_hot,  'ssp585_near_hot'  ),\n",
    "    (raft_ssp585_far_hot,   'ssp585_far_hot'   ),\n",
    "]:\n",
    "    df = x.to_dataframe().reset_index()[raft_columns].rename(columns={\n",
    "        k: f'{k}_{s}' for k in raft_columns[2:]\n",
    "    })\n",
    "    df['datetime_strings'] = pd.to_datetime(df.datetime_strings)\n",
    "    df = df[df.datetime_strings.notna()]\n",
    "    raft_df = raft_df.merge(\n",
    "        df,\n",
    "        how='left',\n",
    "        on=['stormID', 'datetime_strings'],\n",
    "    )\n"
   ]
  },
  {
   "cell_type": "code",
   "execution_count": null,
   "id": "9d6b0801-086d-458e-a8d7-8532303f6503",
   "metadata": {},
   "outputs": [],
   "source": [
    "raft_df"
   ]
  },
  {
   "cell_type": "code",
   "execution_count": null,
   "id": "17f88814-56ac-4c68-a1cc-530c2076acc7",
   "metadata": {},
   "outputs": [],
   "source": []
  },
  {
   "cell_type": "code",
   "execution_count": null,
   "id": "60945c97-3e29-4322-84b6-12bc518793e4",
   "metadata": {},
   "outputs": [],
   "source": [
    "storm_ids = []\n",
    "storm_names = []\n",
    "storm_labels = []\n",
    "storm_years = []\n",
    "storm_files = []\n",
    "for storm_id in raft_df.stormID.unique():\n",
    "\n",
    "    storm = tracks_df[\n",
    "        (tracks_df.storm==storm_id) &\n",
    "        tracks_df.time.notna()\n",
    "    ][['time', 'lat', 'lon', 'name', 'over_land']].reset_index(drop=True).merge(\n",
    "        raft_df[\n",
    "            (raft_df.stormID==storm_id)\n",
    "        ],\n",
    "        how='left',\n",
    "        left_on='time',\n",
    "        right_on='datetime_strings',\n",
    "    )\n",
    "    storm_name  = storm.iloc[0]['name'].decode('utf-8').title()\n",
    "    storm_year  = storm.iloc[0].time.year\n",
    "    storm_label = f\"{storm_name} ({storm_year}) [id:{storm_id}]\"\n",
    "    file_name = f\"{storm_name.replace(' ', '_').lower()}_{storm_year}_{storm_id}\"\n",
    "    storm['name'] = storm_name\n",
    "    storm['year'] = storm_year\n",
    "    storm['storm_id'] = storm_id\n",
    "    storm = storm.drop(columns=['datetime_strings', 'stormID'])\n",
    "\n",
    "    storm_ids.append(storm_id)\n",
    "    storm_names.append(storm_name)\n",
    "    storm_labels.append(storm_label)\n",
    "    storm_years.append(storm_year)\n",
    "    storm_files.append(file_name)\n",
    "\n",
    "    schema = pa.Schema.from_pandas(storm, preserve_index=False)\n",
    "    table = pa.Table.from_pandas(storm, preserve_index=False)\n",
    "    writer = pa.ipc.new_file(f'../static/data/{file_name}.arrow', schema)\n",
    "    writer.write(table)\n",
    "    writer.close()\n"
   ]
  },
  {
   "cell_type": "code",
   "execution_count": null,
   "id": "92256ffc-bd25-495a-ae89-4239a7b9727c",
   "metadata": {},
   "outputs": [],
   "source": [
    "storm_reference = pd.DataFrame({\n",
    "    'id': storm_ids,\n",
    "    'name': storm_names,\n",
    "    'year': storm_years,\n",
    "    'label': storm_labels,\n",
    "    'value': storm_files,\n",
    "})"
   ]
  },
  {
   "cell_type": "code",
   "execution_count": null,
   "id": "d1e03a26-5712-4340-9596-d732a37fb43d",
   "metadata": {},
   "outputs": [],
   "source": [
    "storm_reference.to_json('../src/lib/storms.js', orient='records', indent=2)"
   ]
  },
  {
   "cell_type": "code",
   "execution_count": null,
   "id": "fc6dbbd1-6f6d-4624-9d64-8563ec82fbf5",
   "metadata": {},
   "outputs": [],
   "source": []
  },
  {
   "cell_type": "code",
   "execution_count": null,
   "id": "af29cf79-7ade-4189-bad5-73e8fddef7c0",
   "metadata": {},
   "outputs": [],
   "source": []
  },
  {
   "cell_type": "code",
   "execution_count": null,
   "id": "223339a6-d0f2-44e3-923b-c032505ee6c2",
   "metadata": {},
   "outputs": [],
   "source": []
  },
  {
   "cell_type": "code",
   "execution_count": null,
   "id": "d872f59e-b93b-4a88-9362-1c103adb9095",
   "metadata": {},
   "outputs": [],
   "source": []
  },
  {
   "cell_type": "code",
   "execution_count": null,
   "id": "b0fc38e5-a7f1-4aa7-9a65-4a8a32ff0f80",
   "metadata": {},
   "outputs": [],
   "source": []
  },
  {
   "cell_type": "code",
   "execution_count": null,
   "id": "94ae25c6-5d45-479e-b09c-0f13a3107787",
   "metadata": {},
   "outputs": [],
   "source": []
  },
  {
   "cell_type": "code",
   "execution_count": null,
   "id": "eefbf63b-8b00-49cd-b528-67cf947eb660",
   "metadata": {},
   "outputs": [],
   "source": []
  }
 ],
 "metadata": {
  "kernelspec": {
   "display_name": "godeeep",
   "language": "python",
   "name": "godeeep"
  },
  "language_info": {
   "codemirror_mode": {
    "name": "ipython",
    "version": 3
   },
   "file_extension": ".py",
   "mimetype": "text/x-python",
   "name": "python",
   "nbconvert_exporter": "python",
   "pygments_lexer": "ipython3",
   "version": "3.9.5"
  }
 },
 "nbformat": 4,
 "nbformat_minor": 5
}
